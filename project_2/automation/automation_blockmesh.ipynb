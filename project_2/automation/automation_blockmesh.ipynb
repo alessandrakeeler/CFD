{
 "cells": [
  {
   "cell_type": "code",
   "execution_count": 3,
   "metadata": {},
   "outputs": [],
   "source": [
    "import numpy as np \n",
    "import math "
   ]
  },
  {
   "cell_type": "code",
   "execution_count": 298,
   "metadata": {},
   "outputs": [],
   "source": [
    "def generate_vertices(inner_rad, outer_rad, dist_to_left, dist_to_right, dist_to_top, dist_to_bottom, z1, z2): \n",
    "    vertice_dict = {}\n",
    "    edge_dict = {}\n",
    "    rads = math.pi/2\n",
    "    for i in range(0,8):\n",
    "        xcord = math.cos(i/8 * 2 * math.pi) * inner_rad\n",
    "        ycord = math.sin(i/8 * 2 * math.pi) * inner_rad\n",
    "        vertice_dict[i] = (xcord, ycord, z1)\n",
    "\n",
    "        ##Inner circle \n",
    "        \n",
    "        if i!=7:\n",
    "            edge_dict[(i, i+1)] = (math.cos((i+.5)/8 * 2 * math.pi) * inner_rad, math.sin(((i+.5)/8 * 2 * math.pi)) * inner_rad, z1)\n",
    "            \n",
    "        if i == 7:\n",
    "            edge_dict[(7,0)] = (math.cos(((i+.5)/8 * 2 * math.pi) ) * inner_rad, math.sin(((i+.5)/8 * 2 * math.pi)) * inner_rad, z1)\n",
    "            \n",
    "            \n",
    "    \n",
    "    for i in range(8,16):\n",
    "        xcord = math.cos(((i-8)/8 * 2 * math.pi)) * outer_rad\n",
    "        ycord = math.sin(((i-8)/8 * 2 * math.pi)) * outer_rad\n",
    "        vertice_dict[i] = (xcord, ycord, z1)\n",
    "        ##Outer circle\n",
    "        \n",
    "        \n",
    "        if i!=15: \n",
    "            edge_dict[(i, i+1)] = (math.cos((i+.5-8)/8 * 2 * math.pi ) * outer_rad, math.sin((i+.5-8)/8 * 2 * math.pi) * outer_rad, z1)\n",
    "        \n",
    "        if i == 15:\n",
    "            edge_dict[(15,8)] = (math.cos((i+.5-8)/8 * 2 * math.pi) * outer_rad, math.sin((i+.5-8)/8 * 2 * math.pi) * outer_rad, z1)\n",
    "            \n",
    "        \n",
    "\n",
    "    vertice_dict[16] = (dist_to_right, 0, z1)\n",
    "    vertice_dict[18] = (dist_to_right, dist_to_top, z1)\n",
    "    vertice_dict[20] = (0, dist_to_top, z1)\n",
    "    vertice_dict[22] = (-dist_to_left, dist_to_top, z1)\n",
    "    vertice_dict[24] = (-dist_to_left, 0, z1)\n",
    "    vertice_dict[26] = (-dist_to_left, -dist_to_bottom, z1)\n",
    "    vertice_dict[28] = (0, -dist_to_bottom, z1)\n",
    "    vertice_dict[30] = (dist_to_right, -dist_to_bottom, z1)\n",
    "    \n",
    "        \n",
    "    vertice_dict[17] = (vertice_dict[16][0],vertice_dict[9][1], z1 )\n",
    "    vertice_dict[19] = (vertice_dict[9][0],vertice_dict[18][1], z1)\n",
    "    vertice_dict[21] = (vertice_dict[11][0],vertice_dict[18][1], z1 )\n",
    "    vertice_dict[23] = (vertice_dict[22][0],vertice_dict[11][1], z1 )\n",
    "    vertice_dict[25] = (vertice_dict[26][0],vertice_dict[13][1], z1 )\n",
    "    vertice_dict[27] = (vertice_dict[13][0],vertice_dict[26][1], z1 )\n",
    "    vertice_dict[29] = (vertice_dict[15][0],vertice_dict[30][1], z1 )\n",
    "    vertice_dict[31] = (vertice_dict[16][0],vertice_dict[15][1], z1 )\n",
    "    \n",
    "    vertice_dict = {key:value for key, value in sorted(vertice_dict.items(), key=lambda item: int(item[0]))}\n",
    "    \n",
    "    for i in range(32, 64):\n",
    "        vertice_dict[i] = (vertice_dict[i - 32][0], vertice_dict[i - 32][1], z2)\n",
    "     \n",
    "    ed = {}\n",
    "    for e in edge_dict:\n",
    "        ed[(e[0] + 32, e[1] + 32)] = (edge_dict[e][0], edge_dict[e][1], z2)\n",
    "    edge_dict.update(ed)\n",
    "        \n",
    "    \n",
    "    \n",
    "    \n",
    "    \n",
    "    return vertice_dict, edge_dict\n",
    "    \n",
    "    \n",
    "    \n",
    "    \n",
    "    "
   ]
  },
  {
   "cell_type": "code",
   "execution_count": 299,
   "metadata": {
    "scrolled": true
   },
   "outputs": [],
   "source": [
    "vertices, edges = generate_vertices(.5,1,6,6,4,4,-.005,.005)"
   ]
  },
  {
   "cell_type": "code",
   "execution_count": null,
   "metadata": {},
   "outputs": [],
   "source": []
  },
  {
   "cell_type": "code",
   "execution_count": 292,
   "metadata": {},
   "outputs": [],
   "source": [
    "from matplotlib.pyplot import figure\n",
    "import matplotlib.pyplot as plt"
   ]
  },
  {
   "cell_type": "code",
   "execution_count": 300,
   "metadata": {},
   "outputs": [],
   "source": [
    "edge_graph = list(edges.values())[0:16]"
   ]
  },
  {
   "cell_type": "code",
   "execution_count": 301,
   "metadata": {},
   "outputs": [],
   "source": [
    "graph = list(vertices.values())[0:32]"
   ]
  },
  {
   "cell_type": "code",
   "execution_count": 302,
   "metadata": {},
   "outputs": [],
   "source": [
    "x = []\n",
    "y = []"
   ]
  },
  {
   "cell_type": "code",
   "execution_count": 303,
   "metadata": {},
   "outputs": [],
   "source": [
    "x =[e[0] for e in edge_graph] + [g[0] for g in graph]"
   ]
  },
  {
   "cell_type": "code",
   "execution_count": 304,
   "metadata": {},
   "outputs": [],
   "source": [
    "y = [e[1] for e in edge_graph] + [g[1] for g in graph]"
   ]
  },
  {
   "cell_type": "code",
   "execution_count": 305,
   "metadata": {},
   "outputs": [
    {
     "data": {
      "text/plain": [
       "<matplotlib.collections.PathCollection at 0x7fbf7888ba90>"
      ]
     },
     "execution_count": 305,
     "metadata": {},
     "output_type": "execute_result"
    },
    {
     "data": {
      "image/png": "[encoded data removed]",
      "text/plain": [
       "<Figure size 800x800 with 1 Axes>"
      ]
     },
     "metadata": {
      "needs_background": "light"
     },
     "output_type": "display_data"
    }
   ],
   "source": [
    "figure(figsize=(10, 10), dpi=80)\n",
    "plt.scatter(x,y)\n"
   ]
  },
  {
   "cell_type": "code",
   "execution_count": 133,
   "metadata": {},
   "outputs": [],
   "source": []
  },
  {
   "cell_type": "code",
   "execution_count": 165,
   "metadata": {},
   "outputs": [],
   "source": [
    "for v in vertices:\n",
    "    "
   ]
  },
  {
   "cell_type": "code",
   "execution_count": null,
   "metadata": {},
   "outputs": [],
   "source": []
  },
  {
   "cell_type": "code",
   "execution_count": 296,
   "metadata": {},
   "outputs": [
    {
     "data": {
      "text/plain": [
       "{(0, 1): (0.9238795325112867, 0.3826834323650898, 0.5),\n",
       " (1, 2): (0.38268343236508984, 0.9238795325112867, 0.5),\n",
       " (2, 3): (-0.3826834323650897, 0.9238795325112867, 0.5),\n",
       " (3, 4): (-0.9238795325112867, 0.38268343236508984, 0.5),\n",
       " (4, 5): (-0.9238795325112867, -0.38268343236508967, 0.5),\n",
       " (5, 6): (-0.38268343236509034, -0.9238795325112865, 0.5),\n",
       " (6, 7): (0.38268343236509, -0.9238795325112866, 0.5),\n",
       " (7, 0): (0.9238795325112865, -0.3826834323650904, 0.5),\n",
       " (8, 9): (1.8477590650225735, 0.7653668647301796, 0.5),\n",
       " (9, 10): (0.7653668647301797, 1.8477590650225735, 0.5),\n",
       " (10, 11): (-0.7653668647301795, 1.8477590650225735, 0.5),\n",
       " (11, 12): (-1.8477590650225735, 0.7653668647301797, 0.5),\n",
       " (12, 13): (-1.8477590650225735, -0.7653668647301793, 0.5),\n",
       " (13, 14): (-0.7653668647301807, -1.847759065022573, 0.5),\n",
       " (14, 15): (0.76536686473018, -1.8477590650225733, 0.5),\n",
       " (15, 8): (1.847759065022573, -0.7653668647301808, 0.5),\n",
       " (32, 33): (0.9238795325112867, 0.3826834323650898, -0.5),\n",
       " (33, 34): (0.38268343236508984, 0.9238795325112867, -0.5),\n",
       " (34, 35): (-0.3826834323650897, 0.9238795325112867, -0.5),\n",
       " (35, 36): (-0.9238795325112867, 0.38268343236508984, -0.5),\n",
       " (36, 37): (-0.9238795325112867, -0.38268343236508967, -0.5),\n",
       " (37, 38): (-0.38268343236509034, -0.9238795325112865, -0.5),\n",
       " (38, 39): (0.38268343236509, -0.9238795325112866, -0.5),\n",
       " (39, 32): (0.9238795325112865, -0.3826834323650904, -0.5),\n",
       " (40, 41): (1.8477590650225735, 0.7653668647301796, -0.5),\n",
       " (41, 42): (0.7653668647301797, 1.8477590650225735, -0.5),\n",
       " (42, 43): (-0.7653668647301795, 1.8477590650225735, -0.5),\n",
       " (43, 44): (-1.8477590650225735, 0.7653668647301797, -0.5),\n",
       " (44, 45): (-1.8477590650225735, -0.7653668647301793, -0.5),\n",
       " (45, 46): (-0.7653668647301807, -1.847759065022573, -0.5),\n",
       " (46, 47): (0.76536686473018, -1.8477590650225733, -0.5),\n",
       " (47, 40): (1.847759065022573, -0.7653668647301808, -0.5)}"
      ]
     },
     "execution_count": 296,
     "metadata": {},
     "output_type": "execute_result"
    }
   ],
   "source": [
    "edges"
   ]
  },
  {
   "cell_type": "code",
   "execution_count": 306,
   "metadata": {},
   "outputs": [],
   "source": [
    "with open('vertices.txt', 'w') as f:\n",
    "    for key, value in vertices.items():\n",
    "        line = f\"({value[0]} {value[1]} {value[2]}) // {key}\\n\"\n",
    "        f.write(line)"
   ]
  },
  {
   "cell_type": "code",
   "execution_count": 307,
   "metadata": {},
   "outputs": [],
   "source": [
    "with open('edges.txt', 'w') as f:\n",
    "    for key, value in edges.items():\n",
    "        line = f\"arc {key[0]} {key[1]} ( {value[0]}  {value[1]} {value[2]})\\n\"\n",
    "        f.write(line)"
   ]
  },
  {
   "cell_type": "code",
   "execution_count": null,
   "metadata": {},
   "outputs": [],
   "source": []
  }
 ],
 "metadata": {
  "kernelspec": {
   "display_name": "Python 3",
   "language": "python",
   "name": "python3"
  },
  "language_info": {
   "codemirror_mode": {
    "name": "ipython",
    "version": 3
   },
   "file_extension": ".py",
   "mimetype": "text/x-python",
   "name": "python",
   "nbconvert_exporter": "python",
   "pygments_lexer": "ipython3",
   "version": "3.7.9"
  }
 },
 "nbformat": 4,
 "nbformat_minor": 4
}
